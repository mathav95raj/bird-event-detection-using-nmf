{
  "nbformat": 4,
  "nbformat_minor": 0,
  "metadata": {
    "colab": {
      "name": "birdeventdetection.ipynb",
      "provenance": [],
      "collapsed_sections": [],
      "mount_file_id": "1fKXrwak5tlXyCjYReqbF85tAlK7nEn-k",
      "authorship_tag": "ABX9TyPi96fp+pOltUoEayeZE19l",
      "include_colab_link": true
    },
    "kernelspec": {
      "name": "python3",
      "display_name": "Python 3"
    }
  },
  "cells": [
    {
      "cell_type": "markdown",
      "metadata": {
        "id": "view-in-github",
        "colab_type": "text"
      },
      "source": [
        "<a href=\"https://colab.research.google.com/github/mathav95raj/bird-event-detection-using-nmf/blob/master/birdeventdetection.ipynb\" target=\"_parent\"><img src=\"https://colab.research.google.com/assets/colab-badge.svg\" alt=\"Open In Colab\"/></a>"
      ]
    },
    {
      "cell_type": "code",
      "metadata": {
        "id": "KCx63bdokn9c",
        "colab_type": "code",
        "colab": {}
      },
      "source": [
        "from pydrive.auth import GoogleAuth\n",
        "from pydrive.drive import GoogleDrive\n",
        "from google.colab import auth\n",
        "from oauth2client.client import GoogleCredentials"
      ],
      "execution_count": 3,
      "outputs": []
    },
    {
      "cell_type": "code",
      "metadata": {
        "id": "JYCPWVZikzCq",
        "colab_type": "code",
        "colab": {}
      },
      "source": [
        "auth.authenticate_user()\n",
        "gauth = GoogleAuth()\n",
        "gauth.credentials = GoogleCredentials.get_application_default()\n",
        "drive = GoogleDrive(gauth)"
      ],
      "execution_count": 4,
      "outputs": []
    },
    {
      "cell_type": "code",
      "metadata": {
        "id": "CcuGsfCTR0VQ",
        "colab_type": "code",
        "colab": {}
      },
      "source": [
        "import pandas as pd\n",
        "from sklearn.model_selection import train_test_split\n",
        "import numpy as np\n",
        "from scipy import signal\n",
        "import librosa\n",
        "from sklearn import  ensemble\n",
        "from sklearn import metrics\n",
        "import os"
      ],
      "execution_count": 33,
      "outputs": []
    },
    {
      "cell_type": "code",
      "metadata": {
        "id": "vXQo5avx5yg7",
        "colab_type": "code",
        "colab": {}
      },
      "source": [
        "\n",
        "path = \"/content/drive/My Drive/Torrent/ff1010bird/wav\""
      ],
      "execution_count": 34,
      "outputs": []
    },
    {
      "cell_type": "code",
      "metadata": {
        "id": "SOeCYi3lmViH",
        "colab_type": "code",
        "colab": {
          "base_uri": "https://localhost:8080/",
          "height": 419
        },
        "outputId": "4af57e15-30cd-4b06-a2b7-f4e7687ef34a"
      },
      "source": [
        "datalist = pd.read_csv(\"/content/drive/My Drive/Torrent/ff1010bird/ff1010bird_metadata.csv\")\n",
        "datalist"
      ],
      "execution_count": 35,
      "outputs": [
        {
          "output_type": "execute_result",
          "data": {
            "text/html": [
              "<div>\n",
              "<style scoped>\n",
              "    .dataframe tbody tr th:only-of-type {\n",
              "        vertical-align: middle;\n",
              "    }\n",
              "\n",
              "    .dataframe tbody tr th {\n",
              "        vertical-align: top;\n",
              "    }\n",
              "\n",
              "    .dataframe thead th {\n",
              "        text-align: right;\n",
              "    }\n",
              "</style>\n",
              "<table border=\"1\" class=\"dataframe\">\n",
              "  <thead>\n",
              "    <tr style=\"text-align: right;\">\n",
              "      <th></th>\n",
              "      <th>itemid</th>\n",
              "      <th>hasbird</th>\n",
              "    </tr>\n",
              "  </thead>\n",
              "  <tbody>\n",
              "    <tr>\n",
              "      <th>0</th>\n",
              "      <td>64486</td>\n",
              "      <td>0</td>\n",
              "    </tr>\n",
              "    <tr>\n",
              "      <th>1</th>\n",
              "      <td>2525</td>\n",
              "      <td>0</td>\n",
              "    </tr>\n",
              "    <tr>\n",
              "      <th>2</th>\n",
              "      <td>44981</td>\n",
              "      <td>0</td>\n",
              "    </tr>\n",
              "    <tr>\n",
              "      <th>3</th>\n",
              "      <td>101323</td>\n",
              "      <td>0</td>\n",
              "    </tr>\n",
              "    <tr>\n",
              "      <th>4</th>\n",
              "      <td>165746</td>\n",
              "      <td>0</td>\n",
              "    </tr>\n",
              "    <tr>\n",
              "      <th>...</th>\n",
              "      <td>...</td>\n",
              "      <td>...</td>\n",
              "    </tr>\n",
              "    <tr>\n",
              "      <th>7685</th>\n",
              "      <td>168059</td>\n",
              "      <td>0</td>\n",
              "    </tr>\n",
              "    <tr>\n",
              "      <th>7686</th>\n",
              "      <td>164922</td>\n",
              "      <td>0</td>\n",
              "    </tr>\n",
              "    <tr>\n",
              "      <th>7687</th>\n",
              "      <td>80789</td>\n",
              "      <td>1</td>\n",
              "    </tr>\n",
              "    <tr>\n",
              "      <th>7688</th>\n",
              "      <td>104733</td>\n",
              "      <td>1</td>\n",
              "    </tr>\n",
              "    <tr>\n",
              "      <th>7689</th>\n",
              "      <td>40565</td>\n",
              "      <td>0</td>\n",
              "    </tr>\n",
              "  </tbody>\n",
              "</table>\n",
              "<p>7690 rows × 2 columns</p>\n",
              "</div>"
            ],
            "text/plain": [
              "      itemid  hasbird\n",
              "0      64486        0\n",
              "1       2525        0\n",
              "2      44981        0\n",
              "3     101323        0\n",
              "4     165746        0\n",
              "...      ...      ...\n",
              "7685  168059        0\n",
              "7686  164922        0\n",
              "7687   80789        1\n",
              "7688  104733        1\n",
              "7689   40565        0\n",
              "\n",
              "[7690 rows x 2 columns]"
            ]
          },
          "metadata": {
            "tags": []
          },
          "execution_count": 35
        }
      ]
    },
    {
      "cell_type": "code",
      "metadata": {
        "id": "nNOzEDFtmZop",
        "colab_type": "code",
        "colab": {
          "base_uri": "https://localhost:8080/",
          "height": 51
        },
        "outputId": "4d9219ac-86e5-4b38-a5f8-c485bf58497e"
      },
      "source": [
        "\n",
        "print(\"bird wav\", datalist[datalist['hasbird']==1].shape[0])\n",
        "print(\"non bird wav\", datalist[datalist['hasbird']==0].shape[0])"
      ],
      "execution_count": 36,
      "outputs": [
        {
          "output_type": "stream",
          "text": [
            "bird wav 1935\n",
            "non bird wav 5755\n"
          ],
          "name": "stdout"
        }
      ]
    },
    {
      "cell_type": "code",
      "metadata": {
        "id": "G0zQ_A7VIoJ5",
        "colab_type": "code",
        "colab": {}
      },
      "source": [
        "data_work, data_nonwork = train_test_split(datalist, test_size=0.50, random_state=42)"
      ],
      "execution_count": 37,
      "outputs": []
    },
    {
      "cell_type": "code",
      "metadata": {
        "id": "vqF9x7nyy2Pg",
        "colab_type": "code",
        "colab": {}
      },
      "source": [
        "data_train, data_test = train_test_split(data_work, test_size=0.20, random_state=42)"
      ],
      "execution_count": 38,
      "outputs": []
    },
    {
      "cell_type": "code",
      "metadata": {
        "id": "UTRKV9nzU7OG",
        "colab_type": "code",
        "colab": {
          "base_uri": "https://localhost:8080/",
          "height": 51
        },
        "outputId": "f53e7376-df14-40ab-fc1b-fa4f35eca875"
      },
      "source": [
        "print(\"bird wav\", data_train[data_train['hasbird']==1].shape[0])\n",
        "print(\"non bird wav\", data_train[data_train['hasbird']==0].shape[0])"
      ],
      "execution_count": 39,
      "outputs": [
        {
          "output_type": "stream",
          "text": [
            "bird wav 782\n",
            "non bird wav 2294\n"
          ],
          "name": "stdout"
        }
      ]
    },
    {
      "cell_type": "code",
      "metadata": {
        "id": "7YQQ83dN3WPf",
        "colab_type": "code",
        "colab": {}
      },
      "source": [
        "id0_train = data_train[data_train['hasbird']== 0]\n",
        "id1_train = data_train[data_train['hasbird']== 1]"
      ],
      "execution_count": 40,
      "outputs": []
    },
    {
      "cell_type": "code",
      "metadata": {
        "id": "uBhF25asNLs8",
        "colab_type": "code",
        "colab": {}
      },
      "source": [
        "id0_train_labels = id0_train.iloc[:,1].values.reshape(-1,1)\n",
        "id1_train_labels = id1_train.iloc[:,1].values.reshape(-1,1)"
      ],
      "execution_count": 41,
      "outputs": []
    },
    {
      "cell_type": "code",
      "metadata": {
        "id": "nOyRG64NGWWj",
        "colab_type": "code",
        "colab": {}
      },
      "source": [
        "win     = 1024\n",
        "fs      = 44100.\n",
        "n_mels  = 40\n",
        "n_sh    = 4    \n",
        "ham_win = np.hamming(win) "
      ],
      "execution_count": 42,
      "outputs": []
    },
    {
      "cell_type": "code",
      "metadata": {
        "id": "lQSbmd55GNw3",
        "colab_type": "code",
        "colab": {}
      },
      "source": [
        "melW = librosa.filters.mel(fs, n_fft=win, n_mels=n_mels, fmin=0., fmax=22100 )\n",
        "melW /= np.max(melW, axis=-1)[:,None]  #normalizing mel filter across freq axis = 1, melW = no of filters X frequency bands"
      ],
      "execution_count": 43,
      "outputs": []
    },
    {
      "cell_type": "code",
      "metadata": {
        "id": "vafv9gmPGfXo",
        "colab_type": "code",
        "colab": {
          "base_uri": "https://localhost:8080/",
          "height": 34
        },
        "outputId": "3605eb91-ec2e-41db-aec2-c82ab303609d"
      },
      "source": [
        "melW.shape"
      ],
      "execution_count": 44,
      "outputs": [
        {
          "output_type": "execute_result",
          "data": {
            "text/plain": [
              "(40, 513)"
            ]
          },
          "metadata": {
            "tags": []
          },
          "execution_count": 44
        }
      ]
    },
    {
      "cell_type": "code",
      "metadata": {
        "id": "VMo-Dm2z4Qgj",
        "colab_type": "code",
        "colab": {}
      },
      "source": [
        "id0_train_array_list = []\n",
        "for index, row in id0_train.iterrows(): \n",
        "    wavfile = path + os.sep + str(row[\"itemid\"]) + \".wav\"\n",
        "    wavarray, sr = librosa.core.load(wavfile, mono=True)\n",
        "    if (wavarray.ndim==2): \n",
        "        wavarray = np.mean( wavarray, axis=-1 )    \n",
        "    [fq, t, X] = signal.spectral.spectrogram( wavarray, window=ham_win, nperseg=win, noverlap=0, detrend=False, return_onesided=True, mode='magnitude' ) \n",
        "    X = X.T\n",
        "    X = np.dot( X, melW.T )\n",
        "    X=X/np.max(X) \n",
        "    id0_train_array_list.append(X)"
      ],
      "execution_count": 45,
      "outputs": []
    },
    {
      "cell_type": "code",
      "metadata": {
        "id": "2ftOriUtPID5",
        "colab_type": "code",
        "colab": {
          "base_uri": "https://localhost:8080/",
          "height": 238
        },
        "outputId": "806aeda7-70e9-46bf-fb86-cd26ec5d2456"
      },
      "source": [
        "X"
      ],
      "execution_count": 46,
      "outputs": [
        {
          "output_type": "execute_result",
          "data": {
            "text/plain": [
              "array([[0.02208344, 0.06798306, 0.05658229, ..., 0.007633  , 0.00675879,\n",
              "        0.00734073],\n",
              "       [0.01370199, 0.05782418, 0.05832353, ..., 0.00618839, 0.00545592,\n",
              "        0.0047037 ],\n",
              "       [0.01301916, 0.08530617, 0.06895193, ..., 0.00542532, 0.00653322,\n",
              "        0.00718341],\n",
              "       ...,\n",
              "       [0.02440473, 0.06883584, 0.04325444, ..., 0.0064768 , 0.00644982,\n",
              "        0.00495907],\n",
              "       [0.02366108, 0.05715118, 0.04496249, ..., 0.01183673, 0.01087546,\n",
              "        0.00650025],\n",
              "       [0.0106283 , 0.03947097, 0.04298166, ..., 0.00578661, 0.00545532,\n",
              "        0.0048468 ]])"
            ]
          },
          "metadata": {
            "tags": []
          },
          "execution_count": 46
        }
      ]
    },
    {
      "cell_type": "code",
      "metadata": {
        "id": "8af8flN7W8kf",
        "colab_type": "code",
        "colab": {
          "base_uri": "https://localhost:8080/",
          "height": 34
        },
        "outputId": "034097c7-3058-4662-89d2-9df7ae7e9aff"
      },
      "source": [
        "len(id0_train_array_list)"
      ],
      "execution_count": 47,
      "outputs": [
        {
          "output_type": "execute_result",
          "data": {
            "text/plain": [
              "2294"
            ]
          },
          "metadata": {
            "tags": []
          },
          "execution_count": 47
        }
      ]
    },
    {
      "cell_type": "code",
      "metadata": {
        "id": "BvYGO67gjkmq",
        "colab_type": "code",
        "colab": {
          "base_uri": "https://localhost:8080/",
          "height": 34
        },
        "outputId": "fdb908ab-2b46-41a6-baec-b197c912abf4"
      },
      "source": [
        "id0_train_array_list[0].shape"
      ],
      "execution_count": 48,
      "outputs": [
        {
          "output_type": "execute_result",
          "data": {
            "text/plain": [
              "(215, 40)"
            ]
          },
          "metadata": {
            "tags": []
          },
          "execution_count": 48
        }
      ]
    },
    {
      "cell_type": "code",
      "metadata": {
        "id": "hf7VyD5tRBd0",
        "colab_type": "code",
        "colab": {}
      },
      "source": [
        "X_train0_list=[librosa.feature.stack_memory(t.transpose(), n_steps=n_sh) for t in id0_train_array_list]"
      ],
      "execution_count": 49,
      "outputs": []
    },
    {
      "cell_type": "code",
      "metadata": {
        "id": "Owss9PDbkW0q",
        "colab_type": "code",
        "colab": {}
      },
      "source": [
        "X_train0 = np.hstack(X_train0_list)"
      ],
      "execution_count": 50,
      "outputs": []
    },
    {
      "cell_type": "code",
      "metadata": {
        "id": "vRxyfLWvkiBJ",
        "colab_type": "code",
        "colab": {
          "base_uri": "https://localhost:8080/",
          "height": 34
        },
        "outputId": "33e1362c-ee98-41cd-804b-ab03c86c523d"
      },
      "source": [
        "X_train0.shape"
      ],
      "execution_count": 51,
      "outputs": [
        {
          "output_type": "execute_result",
          "data": {
            "text/plain": [
              "(160, 493210)"
            ]
          },
          "metadata": {
            "tags": []
          },
          "execution_count": 51
        }
      ]
    },
    {
      "cell_type": "code",
      "metadata": {
        "id": "jpcF2sd1NtFe",
        "colab_type": "code",
        "colab": {}
      },
      "source": [
        "id1_train_array_list = []\n",
        "for index, row in id1_train.iterrows(): \n",
        "    wavfile = path + os.sep + str(row[\"itemid\"]) + \".wav\"\n",
        "    wavarray, sr = librosa.core.load(wavfile, mono=True)\n",
        "    if (wavarray.ndim==2): \n",
        "        wavarray = np.mean( wavarray, axis=-1 )  \n",
        "    [fq, t, X] = signal.spectral.spectrogram( wavarray, window=ham_win, nperseg=win, noverlap=0, detrend=False, return_onesided=True, mode='magnitude' ) \n",
        "    X = X.T\n",
        "    X = np.dot( X, melW.T )\n",
        "    X=X/np.max(X) \n",
        "    id1_train_array_list.append(X)"
      ],
      "execution_count": 52,
      "outputs": []
    },
    {
      "cell_type": "code",
      "metadata": {
        "id": "_l3-ldVHN2wj",
        "colab_type": "code",
        "colab": {}
      },
      "source": [
        "X_train1_list=[librosa.feature.stack_memory(t.transpose(), n_steps=n_sh) for t in id1_train_array_list]"
      ],
      "execution_count": 53,
      "outputs": []
    },
    {
      "cell_type": "code",
      "metadata": {
        "id": "jQti0T3lN9-U",
        "colab_type": "code",
        "colab": {}
      },
      "source": [
        "X_train1 = np.hstack(X_train1_list)"
      ],
      "execution_count": 54,
      "outputs": []
    },
    {
      "cell_type": "code",
      "metadata": {
        "id": "Q0oBZYORi-EY",
        "colab_type": "code",
        "colab": {
          "base_uri": "https://localhost:8080/",
          "height": 34
        },
        "outputId": "a3798034-1fb8-48f5-f441-0c73fa13b54a"
      },
      "source": [
        "X_train1.shape"
      ],
      "execution_count": 55,
      "outputs": [
        {
          "output_type": "execute_result",
          "data": {
            "text/plain": [
              "(160, 168130)"
            ]
          },
          "metadata": {
            "tags": []
          },
          "execution_count": 55
        }
      ]
    },
    {
      "cell_type": "code",
      "metadata": {
        "id": "osQQyfhgJ0Ns",
        "colab_type": "code",
        "colab": {}
      },
      "source": [
        "X_train = np.hstack((X_train0, X_train1))"
      ],
      "execution_count": 56,
      "outputs": []
    },
    {
      "cell_type": "code",
      "metadata": {
        "id": "9v319sdEHsMI",
        "colab_type": "code",
        "colab": {
          "base_uri": "https://localhost:8080/",
          "height": 34
        },
        "outputId": "14d76d26-db34-4dff-d77e-3686e90cab59"
      },
      "source": [
        "X_train.shape"
      ],
      "execution_count": 57,
      "outputs": [
        {
          "output_type": "execute_result",
          "data": {
            "text/plain": [
              "(160, 661340)"
            ]
          },
          "metadata": {
            "tags": []
          },
          "execution_count": 57
        }
      ]
    },
    {
      "cell_type": "code",
      "metadata": {
        "id": "g5SxsA8s0DHp",
        "colab_type": "code",
        "colab": {}
      },
      "source": [
        "k0 = 50\n",
        "k1 = 10\n",
        "M =  X_train.shape[0]\n",
        "N =  X_train.shape[1]\n",
        "y0 = X_train0.shape[1]\n",
        "y1 = X_train1.shape[1]"
      ],
      "execution_count": 58,
      "outputs": []
    },
    {
      "cell_type": "code",
      "metadata": {
        "id": "1nEkoSLD27hf",
        "colab_type": "code",
        "colab": {}
      },
      "source": [
        "\n",
        "eps = np.spacing(1)\n",
        "iterations = 200\n",
        "np.random.seed(1515)"
      ],
      "execution_count": 59,
      "outputs": []
    },
    {
      "cell_type": "code",
      "metadata": {
        "id": "prHKZ4fK0KdB",
        "colab_type": "code",
        "colab": {}
      },
      "source": [
        "W = np.random.rand(M, k0+k1) + eps\n",
        "A = np.block([[np.ones([k0, y0]), np.ones([k0, y1])],\n",
        "          [np.zeros([k1, y0]), np.ones([k1, y1])]])\n",
        "H = np.random.rand(k0+k1, y0+y1) + eps\n",
        "H = A*H\n",
        "I = np.ones([M,N])\n",
        "lam = 10"
      ],
      "execution_count": 60,
      "outputs": []
    },
    {
      "cell_type": "code",
      "metadata": {
        "id": "0-V-KwqF2Bxt",
        "colab_type": "code",
        "colab": {}
      },
      "source": [
        "#euclidean cost function\n",
        "# for i in range(iterations):\n",
        "#         R = np.dot(W,H)\n",
        "#         W *= np.dot(X_train , H.T) / (np.dot(I, H.T) + eps)\n",
        "#         W = W/(np.sum(W,axis=0))\n",
        "#         H *= np.dot(W.T, X_train) / (np.dot(W.T, I) + eps+10)\n",
        "#         H = np.divide(H,(np.sum(H,axis=1)).reshape(-1,1))\n",
        "#         # error = np.linalg.norm(X_train - np.dot(W,H))\n",
        "#         # print(error)"
      ],
      "execution_count": 61,
      "outputs": []
    },
    {
      "cell_type": "code",
      "metadata": {
        "id": "SNUuGB1gp2am",
        "colab_type": "code",
        "colab": {}
      },
      "source": [
        "for i in range(iterations):\n",
        "        R = np.dot(W,H)\n",
        "        W *= np.dot(np.divide(X_train, R + eps) , H.T) / (np.dot(I, H.T) + eps)\n",
        "        W = W/(np.sum(W,axis=0))\n",
        "        R = np.dot(W,H)\n",
        "        H *= np.dot(W.T, np.divide(X_train, R + eps)) / (np.dot(W.T, I) + lam + eps)\n",
        "        H = np.divide(H,(np.sum(H,axis=1)).reshape(-1,1))\n",
        "        R = np.dot(W,H)\n",
        "        # error = np.sum(np.multiply(X_train,np.log(((X_train+eps)/(R+eps)))) - X_train + R)\n",
        "        # print(error)"
      ],
      "execution_count": 62,
      "outputs": []
    },
    {
      "cell_type": "code",
      "metadata": {
        "id": "fh3sTmMHI6AP",
        "colab_type": "code",
        "colab": {
          "base_uri": "https://localhost:8080/",
          "height": 34
        },
        "outputId": "90fb0dc7-524a-4d3e-a93a-766fb1642f06"
      },
      "source": [
        "W.shape"
      ],
      "execution_count": 63,
      "outputs": [
        {
          "output_type": "execute_result",
          "data": {
            "text/plain": [
              "(160, 60)"
            ]
          },
          "metadata": {
            "tags": []
          },
          "execution_count": 63
        }
      ]
    },
    {
      "cell_type": "code",
      "metadata": {
        "id": "PAjCXJZStCJD",
        "colab_type": "code",
        "colab": {
          "base_uri": "https://localhost:8080/",
          "height": 238
        },
        "outputId": "9ecd0fcb-808d-41ca-fc9b-057c0543a7f6"
      },
      "source": [
        "W"
      ],
      "execution_count": 64,
      "outputs": [
        {
          "output_type": "execute_result",
          "data": {
            "text/plain": [
              "array([[1.37975947e-02, 1.27605963e-05, 3.06950400e-06, ...,\n",
              "        1.42758197e-05, 3.09369937e-04, 1.00014665e-03],\n",
              "       [5.02920262e-02, 1.23064144e-05, 1.84698163e-05, ...,\n",
              "        1.04153560e-05, 8.78051390e-04, 1.80357589e-03],\n",
              "       [1.01537814e-01, 1.18189467e-04, 5.57940068e-04, ...,\n",
              "        2.10900398e-05, 1.05543028e-03, 9.98862760e-03],\n",
              "       ...,\n",
              "       [1.24792214e-07, 2.80993536e-03, 2.16652606e-06, ...,\n",
              "        2.19332444e-02, 4.04963256e-04, 1.26053590e-06],\n",
              "       [5.62806807e-08, 1.53553522e-03, 1.90885917e-07, ...,\n",
              "        1.23024401e-02, 3.36044027e-04, 2.97958743e-08],\n",
              "       [2.99509228e-08, 1.36646332e-03, 2.14493949e-07, ...,\n",
              "        7.32907237e-03, 2.56928000e-04, 4.01773562e-07]])"
            ]
          },
          "metadata": {
            "tags": []
          },
          "execution_count": 64
        }
      ]
    },
    {
      "cell_type": "code",
      "metadata": {
        "id": "Z_396XBbLe3w",
        "colab_type": "code",
        "colab": {}
      },
      "source": [
        "train_label = data_train['hasbird'].to_numpy().reshape(-1,1)"
      ],
      "execution_count": 65,
      "outputs": []
    },
    {
      "cell_type": "code",
      "metadata": {
        "id": "luwYNuxLLp5P",
        "colab_type": "code",
        "colab": {
          "base_uri": "https://localhost:8080/",
          "height": 34
        },
        "outputId": "1730633a-b507-4e52-ee82-40955f4af184"
      },
      "source": [
        "train_label.shape"
      ],
      "execution_count": 66,
      "outputs": [
        {
          "output_type": "execute_result",
          "data": {
            "text/plain": [
              "(3076, 1)"
            ]
          },
          "metadata": {
            "tags": []
          },
          "execution_count": 66
        }
      ]
    },
    {
      "cell_type": "code",
      "metadata": {
        "id": "MP3-THfXRCiH",
        "colab_type": "code",
        "colab": {}
      },
      "source": [
        "id_labels = np.vstack((id0_train_labels, id1_train_labels))"
      ],
      "execution_count": 67,
      "outputs": []
    },
    {
      "cell_type": "code",
      "metadata": {
        "id": "xfA4i7NNTkwS",
        "colab_type": "code",
        "colab": {
          "base_uri": "https://localhost:8080/",
          "height": 34
        },
        "outputId": "8c08a010-f15c-4229-f092-49794f281eec"
      },
      "source": [
        "I.shape"
      ],
      "execution_count": 68,
      "outputs": [
        {
          "output_type": "execute_result",
          "data": {
            "text/plain": [
              "(160, 661340)"
            ]
          },
          "metadata": {
            "tags": []
          },
          "execution_count": 68
        }
      ]
    },
    {
      "cell_type": "code",
      "metadata": {
        "id": "Dm9udT46TqiZ",
        "colab_type": "code",
        "colab": {
          "base_uri": "https://localhost:8080/",
          "height": 34
        },
        "outputId": "cd517e98-0e4b-4275-a805-8ccd83cea5a2"
      },
      "source": [
        "W.shape"
      ],
      "execution_count": 69,
      "outputs": [
        {
          "output_type": "execute_result",
          "data": {
            "text/plain": [
              "(160, 60)"
            ]
          },
          "metadata": {
            "tags": []
          },
          "execution_count": 69
        }
      ]
    },
    {
      "cell_type": "code",
      "metadata": {
        "id": "Q0jD5BHLKa5s",
        "colab_type": "code",
        "colab": {}
      },
      "source": [
        "activations = []\n",
        "for V in X_train0_list:\n",
        "  I = np.ones(V.shape)\n",
        "  H = np.random.rand(k0+k1, V.shape[1])\n",
        "  for i in range(50):\n",
        "        # H *= np.dot(W.T, V) / (np.dot(W.T, S) + eps)\n",
        "        R = np.dot(W, H)\n",
        "        H *= np.dot(W.T, np.divide(V, R + eps)) / (np.dot(W.T, I) + lam + eps)\n",
        "        H = np.divide(H,(np.sum(H,axis=1)).reshape(-1,1))\n",
        "  activations.append(np.hstack((np.mean(H, axis = 1).reshape(1,-1), np.std(H, axis = 1).reshape(1,-1))))"
      ],
      "execution_count": 70,
      "outputs": []
    },
    {
      "cell_type": "code",
      "metadata": {
        "id": "NmTsGmEWO2Pb",
        "colab_type": "code",
        "colab": {}
      },
      "source": [
        "for V in X_train1_list:\n",
        "  I = np.ones(V.shape)\n",
        "  H = np.random.rand(k0+k1, V.shape[1])\n",
        "  for i in range(50):\n",
        "        # H *= np.dot(W.T, V) / (np.dot(W.T, S) + eps)\n",
        "        R = np.dot(W, H)\n",
        "        H *= np.dot(W.T, np.divide(V, R + eps)) / (np.dot(W.T, I) + lam + eps)\n",
        "        H = np.divide(H,(np.sum(H,axis=1)).reshape(-1,1))\n",
        "  activations.append(np.hstack((np.mean(H, axis = 1).reshape(1,-1), np.std(H, axis = 1).reshape(1,-1))))"
      ],
      "execution_count": 71,
      "outputs": []
    },
    {
      "cell_type": "code",
      "metadata": {
        "id": "bx-9MfElWUi4",
        "colab_type": "code",
        "colab": {
          "base_uri": "https://localhost:8080/",
          "height": 34
        },
        "outputId": "433142fd-67e3-4e44-8afd-019bb205ad59"
      },
      "source": [
        "X_clf = np.array(activations).squeeze()\n",
        "X_clf.shape"
      ],
      "execution_count": 72,
      "outputs": [
        {
          "output_type": "execute_result",
          "data": {
            "text/plain": [
              "(3076, 120)"
            ]
          },
          "metadata": {
            "tags": []
          },
          "execution_count": 72
        }
      ]
    },
    {
      "cell_type": "code",
      "metadata": {
        "id": "BfCuATtJWjFF",
        "colab_type": "code",
        "colab": {}
      },
      "source": [
        "\n",
        "n_trees = 500\n",
        "clf =ensemble.RandomForestClassifier(n_trees, n_jobs=-1)"
      ],
      "execution_count": 73,
      "outputs": []
    },
    {
      "cell_type": "code",
      "metadata": {
        "id": "aYdr664mxcRH",
        "colab_type": "code",
        "colab": {
          "base_uri": "https://localhost:8080/",
          "height": 153
        },
        "outputId": "d34ca505-5b86-41af-880b-2da654a6d116"
      },
      "source": [
        "clf.fit(X_clf, id_labels.ravel())"
      ],
      "execution_count": 74,
      "outputs": [
        {
          "output_type": "execute_result",
          "data": {
            "text/plain": [
              "RandomForestClassifier(bootstrap=True, ccp_alpha=0.0, class_weight=None,\n",
              "                       criterion='gini', max_depth=None, max_features='auto',\n",
              "                       max_leaf_nodes=None, max_samples=None,\n",
              "                       min_impurity_decrease=0.0, min_impurity_split=None,\n",
              "                       min_samples_leaf=1, min_samples_split=2,\n",
              "                       min_weight_fraction_leaf=0.0, n_estimators=500,\n",
              "                       n_jobs=-1, oob_score=False, random_state=None, verbose=0,\n",
              "                       warm_start=False)"
            ]
          },
          "metadata": {
            "tags": []
          },
          "execution_count": 74
        }
      ]
    },
    {
      "cell_type": "code",
      "metadata": {
        "id": "sn0o2CkUs3IR",
        "colab_type": "code",
        "colab": {}
      },
      "source": [
        "data_test_labels = data_test.iloc[:,1].values.reshape(-1,1)"
      ],
      "execution_count": 75,
      "outputs": []
    },
    {
      "cell_type": "code",
      "metadata": {
        "id": "JLa7iOCTuXej",
        "colab_type": "code",
        "colab": {}
      },
      "source": [
        "data_test_array_list = []\n",
        "for index, row in data_test.iterrows(): \n",
        "    wavfile = path + os.sep + str(row[\"itemid\"]) + \".wav\"\n",
        "    wavarray, sr = librosa.core.load(wavfile, mono=True)\n",
        "    if (wavarray.ndim==2): \n",
        "        wavarray = np.mean( wavarray, axis=-1 )    \n",
        "    [fq, t, X] = signal.spectral.spectrogram( wavarray, window=ham_win, nperseg=win, noverlap=0, detrend=False, return_onesided=True, mode='magnitude' ) \n",
        "    X = X.T\n",
        "    X = np.dot( X, melW.T )\n",
        "    X=X/np.max(X) \n",
        "    data_test_array_list.append(X)"
      ],
      "execution_count": 76,
      "outputs": []
    },
    {
      "cell_type": "code",
      "metadata": {
        "id": "L7SR7Ukv1M5d",
        "colab_type": "code",
        "colab": {
          "base_uri": "https://localhost:8080/",
          "height": 34
        },
        "outputId": "710c712b-0949-4bc7-c141-7d3426cbeda1"
      },
      "source": [
        "data_test_array_list[0].shape"
      ],
      "execution_count": 77,
      "outputs": [
        {
          "output_type": "execute_result",
          "data": {
            "text/plain": [
              "(215, 40)"
            ]
          },
          "metadata": {
            "tags": []
          },
          "execution_count": 77
        }
      ]
    },
    {
      "cell_type": "code",
      "metadata": {
        "id": "8t051ERGyZPF",
        "colab_type": "code",
        "colab": {}
      },
      "source": [
        "data_test_list=[librosa.feature.stack_memory(t.transpose(), n_steps=n_sh) for t in data_test_array_list]"
      ],
      "execution_count": 78,
      "outputs": []
    },
    {
      "cell_type": "code",
      "metadata": {
        "id": "fFHR-F4wy44f",
        "colab_type": "code",
        "colab": {}
      },
      "source": [
        "test_activations = []\n",
        "for V in data_test_list:\n",
        "  I = np.ones(V.shape)\n",
        "  H = np.random.rand(k0+k1, V.shape[1])\n",
        "  for i in range(50):\n",
        "        # H *= np.dot(W.T, V) / (np.dot(W.T, S) + eps)\n",
        "        R = np.dot(W, H)\n",
        "        H *= np.dot(W.T, np.divide(V, R + eps)) / (np.dot(W.T, I) + lam + eps)\n",
        "        H = np.divide(H,(np.sum(H,axis=1)).reshape(-1,1))\n",
        "  test_activations.append(np.hstack((np.mean(H, axis = 1).reshape(1,-1), np.std(H, axis = 1).reshape(1,-1))))"
      ],
      "execution_count": 79,
      "outputs": []
    },
    {
      "cell_type": "code",
      "metadata": {
        "id": "y9hC1tD91ogD",
        "colab_type": "code",
        "colab": {
          "base_uri": "https://localhost:8080/",
          "height": 34
        },
        "outputId": "69bb4d33-9522-4ed2-fa3a-b8f7045cf325"
      },
      "source": [
        "X_clf_test = np.array(test_activations).squeeze()\n",
        "X_clf_test.shape"
      ],
      "execution_count": 80,
      "outputs": [
        {
          "output_type": "execute_result",
          "data": {
            "text/plain": [
              "(769, 120)"
            ]
          },
          "metadata": {
            "tags": []
          },
          "execution_count": 80
        }
      ]
    },
    {
      "cell_type": "code",
      "metadata": {
        "id": "SQWVHBJg2K9A",
        "colab_type": "code",
        "colab": {}
      },
      "source": [
        "y_scores=clf.predict_proba(X_clf_test)"
      ],
      "execution_count": 81,
      "outputs": []
    },
    {
      "cell_type": "code",
      "metadata": {
        "id": "QgM-ejwF29EB",
        "colab_type": "code",
        "colab": {}
      },
      "source": [
        "clf_labels = np.argmax(y_scores, axis = 1)"
      ],
      "execution_count": 82,
      "outputs": []
    },
    {
      "cell_type": "code",
      "metadata": {
        "id": "4KALWAzn2hGy",
        "colab_type": "code",
        "colab": {
          "base_uri": "https://localhost:8080/",
          "height": 34
        },
        "outputId": "35270456-a9bc-4f47-e2df-ebe0469ab050"
      },
      "source": [
        "fpr, tpr, thresholds = metrics.roc_curve(data_test_labels, clf_labels)\n",
        "roc_auc = metrics.auc(fpr, tpr)\n",
        "print(roc_auc)"
      ],
      "execution_count": 83,
      "outputs": [
        {
          "output_type": "stream",
          "text": [
            "0.7237643840784759\n"
          ],
          "name": "stdout"
        }
      ]
    },
    {
      "cell_type": "code",
      "metadata": {
        "id": "KcfzamEV140M",
        "colab_type": "code",
        "colab": {
          "base_uri": "https://localhost:8080/",
          "height": 34
        },
        "outputId": "7d59e7b0-d402-484a-d578-7c6820e1dff9"
      },
      "source": [
        "print(metrics.accuracy_score(data_test_labels, clf_labels))"
      ],
      "execution_count": 84,
      "outputs": [
        {
          "output_type": "stream",
          "text": [
            "0.8634590377113134\n"
          ],
          "name": "stdout"
        }
      ]
    },
    {
      "cell_type": "code",
      "metadata": {
        "id": "aDgtXy440acn",
        "colab_type": "code",
        "colab": {
          "base_uri": "https://localhost:8080/",
          "height": 51
        },
        "outputId": "3c3ee1f2-ad67-4ab4-ff6e-6ad5e93e6f2e"
      },
      "source": [
        "print(metrics.confusion_matrix(data_test_labels, clf_labels))"
      ],
      "execution_count": 86,
      "outputs": [
        {
          "output_type": "stream",
          "text": [
            "[[581   8]\n",
            " [ 97  83]]\n"
          ],
          "name": "stdout"
        }
      ]
    }
  ]
}